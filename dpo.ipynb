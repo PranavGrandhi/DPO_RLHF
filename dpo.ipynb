{
 "cells": [
  {
   "cell_type": "code",
   "execution_count": 2,
   "id": "450ea553-a2f2-4768-8849-b6168ac1a227",
   "metadata": {},
   "outputs": [
    {
     "name": "stderr",
     "output_type": "stream",
     "text": [
      "Loading checkpoint shards: 100%|██████████| 2/2 [00:18<00:00,  9.18s/it]\n",
      "Setting `pad_token_id` to `eos_token_id`:2 for open-end generation.\n"
     ]
    },
    {
     "data": {
      "text/plain": [
       "'<s> My favourite condiment is soy sauce. I like the sweet Chinese style ones the best but I also like the salty Japanese ones too. There is a special one I like and it is the Thai style fish sauce.\\n\\nSoy sauce is a great addition to salad dressing… you can use it to make a simple one by mixing some rice vinegar, sesame oil, chili oil, chopped ginger and a tablespoon or two of light soy sauce .\\n\\nAlso a good and'"
      ]
     },
     "execution_count": 2,
     "metadata": {},
     "output_type": "execute_result"
    }
   ],
   "source": [
    "from transformers import AutoModelForCausalLM, AutoTokenizer\n",
    "\n",
    "model = AutoModelForCausalLM.from_pretrained(\"/scratch/pvg2018/Mistral7b\", device_map=\"auto\")\n",
    "tokenizer = AutoTokenizer.from_pretrained(\"/scratch/pvg2018/Mistral7b\")\n",
    "\n",
    "prompt = \"My favourite condiment is\"          \n",
    "\n",
    "model_inputs = tokenizer([prompt], return_tensors=\"pt\")#.to(\"cuda\")\n",
    "#model.to(device)\n",
    "\n",
    "generated_ids = model.generate(**model_inputs, max_new_tokens=100, do_sample=True)\n",
    "tokenizer.batch_decode(generated_ids)[0]"
   ]
  },
  {
   "cell_type": "code",
   "execution_count": null,
   "id": "4dab7d38-1abc-4798-b5b9-6474a694ff05",
   "metadata": {},
   "outputs": [],
   "source": []
  }
 ],
 "metadata": {
  "kernelspec": {
   "display_name": "pytorch-example",
   "language": "python",
   "name": "pytorch-example"
  },
  "language_info": {
   "codemirror_mode": {
    "name": "ipython",
    "version": 3
   },
   "file_extension": ".py",
   "mimetype": "text/x-python",
   "name": "python",
   "nbconvert_exporter": "python",
   "pygments_lexer": "ipython3",
   "version": "3.12.2"
  }
 },
 "nbformat": 4,
 "nbformat_minor": 5
}
